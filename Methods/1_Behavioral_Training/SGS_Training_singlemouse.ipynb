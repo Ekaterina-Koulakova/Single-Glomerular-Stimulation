{
 "cells": [
  {
   "cell_type": "markdown",
   "metadata": {},
   "source": [
    "# Single Glomerular Stimulation Detection Training - Single Mouse\n",
    "\n",
    "*_This code contains may artifacts from prior iterations and therefore isn't the most efficient._\n",
    "\n",
    "This code produces a plot which shows all training sessions for a single mouse. Specifically, the plot produced shows the mouse's detection rate accross multiple sessions until the task is learned.\n",
    "\n",
    "### Note on the input data files\n",
    "\n",
    "The input to this code is a list of H5 files which were output after every session was performed. The nomenclature of these H5 files follows the following example format:\n",
    "\n",
    "mouse0070_sess01_3750V_D231016.h5\n",
    "\n",
    "Here, 0070 is the mouse number, 01 is the session number, 3750V indicates that 3.75V were applied to the AOM which modulates the stimulation laser's power, and the date of the session follows. "
   ]
  },
  {
   "cell_type": "code",
   "execution_count": 1,
   "metadata": {
    "vscode": {
     "languageId": "plaintext"
    }
   },
   "outputs": [],
   "source": [
    "import h5py\n",
    "import re\n",
    "import os\n",
    "import numpy as np\n",
    "import pandas as pd\n",
    "import glob\n",
    "import matplotlib.pyplot as plt"
   ]
  },
  {
   "cell_type": "markdown",
   "metadata": {},
   "source": [
    "#### Select which mouse you would like to analyze\n",
    "\n",
    "The mouse number should be included in all of the H5 files which pertain to its sessions as dectibed earlier."
   ]
  },
  {
   "cell_type": "code",
   "execution_count": 2,
   "metadata": {
    "vscode": {
     "languageId": "plaintext"
    }
   },
   "outputs": [],
   "source": [
    "string_pattern = \"*mouse0691*.h5\"\n",
    "# string_pattern = \"*mouse0070*.h5\"\n",
    "# string_pattern = \"*mouse0071*.h5\"\n",
    "# string_pattern = \"*mouse0773*.h5\"\n",
    "# string_pattern = \"*mouse0781*.h5\""
   ]
  },
  {
   "cell_type": "markdown",
   "metadata": {},
   "source": [
    "Define the **directory** where your H5 files are found as well as the **home_directory**/plots_behavior where you would like your output plot to be saved."
   ]
  },
  {
   "cell_type": "code",
   "execution_count": 4,
   "metadata": {
    "vscode": {
     "languageId": "plaintext"
    }
   },
   "outputs": [
    {
     "name": "stdout",
     "output_type": "stream",
     "text": [
      "['C:/Users/Ekaterina/Dropbox/NYU/SingleGlomStim/Behavior_SingleGlomStim/Training/mouse0691_sess01_3748V_D230907.h5', 'C:/Users/Ekaterina/Dropbox/NYU/SingleGlomStim/Behavior_SingleGlomStim/Training/mouse0691_sess02_3750V_D230912.h5', 'C:/Users/Ekaterina/Dropbox/NYU/SingleGlomStim/Behavior_SingleGlomStim/Training/mouse0691_sess03_3750V_D230913.h5', 'C:/Users/Ekaterina/Dropbox/NYU/SingleGlomStim/Behavior_SingleGlomStim/Training/mouse0691_sess04_3000V_D230914.h5', 'C:/Users/Ekaterina/Dropbox/NYU/SingleGlomStim/Behavior_SingleGlomStim/Training/mouse0691_sess05_3001V_D230915.h5', 'C:/Users/Ekaterina/Dropbox/NYU/SingleGlomStim/Behavior_SingleGlomStim/Training/mouse0691_sess06_3748V_D230919.h5']\n"
     ]
    }
   ],
   "source": [
    "home_directory = 'C:/Users/Ekaterina/Dropbox/NYU/SingleGlomStim/Behavior_SingleGlomStim'\n",
    "directory = 'C:/Users/Ekaterina/Dropbox/NYU/SingleGlomStim\\Behavior_SingleGlomStim/Training'\n",
    "\n",
    "\n",
    "file_list = os.listdir(directory)\n",
    "\n",
    "# Extract 'mouse0064' from the 'string_pattern' using regular expressions\n",
    "match = re.search(r'mouse(\\d+)', string_pattern)\n",
    "mouse_number = match.group(1)\n",
    "\n",
    "\n",
    "file_paths = glob.glob(os.path.join(directory, string_pattern))\n",
    "file_paths = [path.replace(\"\\\\\", \"/\") for path in file_paths]\n",
    "\n",
    "print(file_paths)"
   ]
  },
  {
   "cell_type": "markdown",
   "metadata": {},
   "source": [
    "#### Sort files in _file_paths_ by session number\n",
    "The session number is also included in the title of the H5 behavioral file. Specifically, the session number is indicated by XX in sessXX. "
   ]
  },
  {
   "cell_type": "code",
   "execution_count": 5,
   "metadata": {
    "vscode": {
     "languageId": "plaintext"
    }
   },
   "outputs": [
    {
     "name": "stdout",
     "output_type": "stream",
     "text": [
      "['C:/Users/Ekaterina/Dropbox/NYU/SingleGlomStim/Behavior_SingleGlomStim/Training/mouse0691_sess01_3748V_D230907.h5', 'C:/Users/Ekaterina/Dropbox/NYU/SingleGlomStim/Behavior_SingleGlomStim/Training/mouse0691_sess02_3750V_D230912.h5', 'C:/Users/Ekaterina/Dropbox/NYU/SingleGlomStim/Behavior_SingleGlomStim/Training/mouse0691_sess03_3750V_D230913.h5', 'C:/Users/Ekaterina/Dropbox/NYU/SingleGlomStim/Behavior_SingleGlomStim/Training/mouse0691_sess04_3000V_D230914.h5', 'C:/Users/Ekaterina/Dropbox/NYU/SingleGlomStim/Behavior_SingleGlomStim/Training/mouse0691_sess05_3001V_D230915.h5', 'C:/Users/Ekaterina/Dropbox/NYU/SingleGlomStim/Behavior_SingleGlomStim/Training/mouse0691_sess06_3748V_D230919.h5']\n"
     ]
    }
   ],
   "source": [
    "def sort_key(file_path):\n",
    "   # Extract the 4 digits preceding \"V_\"\n",
    "   start_index = file_path.find(\"sess\") + 4\n",
    "   end_index = start_index + 2\n",
    "   number_str = file_path[start_index:end_index]\n",
    "   \n",
    "   # Convert the number string to an integer\n",
    "   try:\n",
    "       number = int(number_str)\n",
    "   except ValueError:\n",
    "       number = 0\n",
    "   \n",
    "   return number\n",
    "\n",
    "sorted_files_sess = sorted(file_paths, key=sort_key)\n",
    "print(sorted_files_sess)"
   ]
  },
  {
   "cell_type": "markdown",
   "metadata": {},
   "source": [
    "Create a list of dataframes called **data** using the various file_paths."
   ]
  },
  {
   "cell_type": "code",
   "execution_count": 6,
   "metadata": {
    "vscode": {
     "languageId": "plaintext"
    }
   },
   "outputs": [],
   "source": [
    "# Create a list of dataframes using the various file_paths.\n",
    "data = []\n",
    "\n",
    "for file_path in sorted_files_sess:\n",
    "    with h5py.File(file_path, 'r') as h5_file:\n",
    "        dataset = h5_file['Trials']\n",
    "        data_frame = pd.DataFrame(dataset[:]) \n",
    "        data.append(data_frame)"
   ]
  },
  {
   "cell_type": "markdown",
   "metadata": {},
   "source": [
    "#### Select the range of trials that you would like to consider for each dataframe in 'data'\n",
    "\n",
    "Mice are imperfect. It typically takes them approximately 25 to 50 trials in a session to get reacclimated to the task. Then, at one point, they will abruptly stop doing the task correctly, followed shortly by a recovery. For this reason, I introduced this step. Here, for every mouse's session, you are able to slice the session (or dataframe in **data**) into the segments that you would like to consider in calculating the mouse's detection rate. \n",
    "\n",
    "If there are two numbers listed in a slicing range, they act as the start and end of the session. If there are four numbers listed in the slicing range, this indicates that the session has an additional range cut from its middle."
   ]
  },
  {
   "cell_type": "code",
   "execution_count": 7,
   "metadata": {
    "vscode": {
     "languageId": "plaintext"
    }
   },
   "outputs": [],
   "source": [
    "slicing_ranges = []\n",
    "    \n",
    "if mouse_number == '0691':    \n",
    "    slicing_ranges = [(20,250),  #sess01 230907\n",
    "                      (20,250),  #sess02 230912\n",
    "                      (100,250), #sess03 230913\n",
    "                      (40,110,130,260),  #sess04 230914\n",
    "                      (0,265),   #sess05 230915\n",
    "                      (60,230)]  #sess06 230919\n",
    "    \n",
    "if mouse_number == '0070':    \n",
    "    slicing_ranges = [(50,300),  #sess01 231016\n",
    "                      (50,300),  #sess02 231017\n",
    "                      (100,250), #sess03 231018\n",
    "                      (50,225),  #sess04 231019\n",
    "                      (180,400), #sess05 231020\n",
    "                      (180,390), #sess06 231023\n",
    "                      (50,360)]  #sess07 231024\n",
    "    \n",
    "if mouse_number == '0071':    \n",
    "    slicing_ranges = [(50,300),  #sess01 231016\n",
    "                      (50,300),  #sess02 231017\n",
    "                      (50,300),  #sess03 231018\n",
    "                      (150,300), #sess04 231019\n",
    "                      (50,400),  #sess05 231020\n",
    "                      (30,320)]  #sess06 231023\n",
    "    \n",
    "    \n",
    "if mouse_number == '0773':    \n",
    "    slicing_ranges = [(50,300),  #sess01 24.08.13\n",
    "                      (50,500),  #sess02 24.08.14\n",
    "                      (50,600),  #sess03 24.08.15\n",
    "                      (50,500),  #sess04 24.08.16\n",
    "                      (50,400),  #sess05 24.08.19\n",
    "                      (50,145)]  #sess06 24.08.20\n",
    "\n",
    "    \n",
    "if mouse_number == '0781':    \n",
    "    slicing_ranges = [(20,120),  #sess01 24.08.14\n",
    "                      (20,120),  #sess02 24.08.15\n",
    "                      (50,450),  #sess03 24.08.16\n",
    "                      (50,600),  #sess04 24.08.19\n",
    "                      (50,550),  #sess05 24.08.20\n",
    "                      (50,225),  #sess06 24.08.21\n",
    "                      (25,225),  #sess07 24.08.22\n",
    "# =============================================================================\n",
    "#                           (25,200),  #sess08 24.08.23\n",
    "#                           (50,400),  #sess09 24.08.26\n",
    "#                           (50,500),  #sess10 24.08.27\n",
    "# =============================================================================\n",
    "                      (50,400)]  #sess11 24.08.28\n",
    "\n",
    "\n",
    "# Apply the slicing to each dataframe in the 'data' list\n",
    "for i, ranges in enumerate(slicing_ranges):\n",
    "    if len(ranges) == 2:\n",
    "        start_idx, end_idx = ranges\n",
    "        data[i] = data[i].loc[start_idx:end_idx]\n",
    "    elif len(ranges) == 4:\n",
    "        start_idx1, end_idx1, start_idx2, end_idx2 = ranges\n",
    "        data[i] = pd.concat([data[i].loc[start_idx1:end_idx1], data[i].loc[start_idx2:end_idx2]]) \n"
   ]
  },
  {
   "cell_type": "markdown",
   "metadata": {},
   "source": [
    "#### Naming variables from '**data**'\n",
    "\n",
    "_trialtype_, _result_, _mask_id_, _pavlov_ are all lists of arrays. Each array stores the relevanat column from each session (dataframe) in the **data** list."
   ]
  },
  {
   "cell_type": "code",
   "execution_count": 8,
   "metadata": {
    "vscode": {
     "languageId": "plaintext"
    }
   },
   "outputs": [],
   "source": [
    "# trialtype is a list of arrays, where each array represents the \"trialtype\" column from each dataframe in the \"data\" list\n",
    "trialtype = [df['trialtype'].values for df in data]\n",
    "# iterates over each dataframe in the \"data\" list. For each dataframe, it \n",
    "# accesses the 'trialtype' column using df['trialtype'] and retrieves its values \n",
    "# using the .values attribute.\n",
    "\n",
    "result = [df['result'].values for df in data]\n",
    "# result stores the mouse's response to the stimulus as an integer from 1 to 6\n",
    "# 1: Right_CO\n",
    "# 2: Left_CO\n",
    "# 3: Right_FA\n",
    "# 4: Left_FA\n",
    "# 5: Right _MISS\n",
    "# 6: Left_MISS\n",
    "\n",
    "mask_id = [df['mask_id'].values for df in data]\n",
    "# mask_id is the pattern that was presented to the mouse drawn on the DMD. \n",
    "# For example, for the SGS application, there should only be two values in mask_id: 0 & 99\n",
    "# 0 is the region of interest or ROI drawn over the single glomerulus which you are stimulating.\n",
    "# 99 is the ROI drawn small in the corner of the imaging frame presented during Blank trials\n",
    "\n",
    "pavlov = [df['pavlov'].values for df in data]\n",
    "# pavlov == 1 indicates that a trial was issued a reward regardless of the 'result' or action of the mouse\n",
    "# pavlov is a technique employed during training to signal to a mouse when it should lick.\n",
    "# As you will see the probability of a trila being rewarded using pavlov decreases exponentially with each session.\n",
    "\n",
    "# number of sessions conducted\n",
    "n_sessions = len(data)\n",
    "\n",
    "n_stim = np.array([len(arr) - np.sum(arr) for arr in trialtype])\n",
    "n_blank = np.array([np.sum(arr) for arr in trialtype])\n",
    "n_trialtype = pd.DataFrame({'n_stim': n_stim, 'n_blank': n_blank})\n",
    "\n",
    "# tot_trials_sess is an array which displays how many trials were present in each session.\n",
    "tot_trials_sess = np.array([len(trials) for trials in trialtype], dtype=float)\n",
    "# this variable will be recalled when calculating the confidence interval."
   ]
  },
  {
   "cell_type": "markdown",
   "metadata": {},
   "source": [
    "#### Create an array which stores the percentage of trials which were rewarded using pavlov for each session."
   ]
  },
  {
   "cell_type": "code",
   "execution_count": 9,
   "metadata": {
    "vscode": {
     "languageId": "plaintext"
    }
   },
   "outputs": [],
   "source": [
    "pavlov_percent = []\n",
    "\n",
    "for i in range(n_sessions):\n",
    "    p_pavlov = (sum(pavlov[i])/len(pavlov[i]))*100\n",
    "    pavlov_percent.append(p_pavlov) "
   ]
  },
  {
   "cell_type": "markdown",
   "metadata": {},
   "source": [
    "### Calculate the success detection rate for Go & NoGo trials\n",
    "\n",
    "#### Tabultate how many different regions of interest (ROIs) were presented.\n",
    "\n",
    "In this case there are two regions: one region was stimulated on the targeted glomerulus and another was used for Blank trials which was located o nthe bone of the animal."
   ]
  },
  {
   "cell_type": "code",
   "execution_count": 10,
   "metadata": {
    "vscode": {
     "languageId": "plaintext"
    }
   },
   "outputs": [
    {
     "name": "stdout",
     "output_type": "stream",
     "text": [
      "[0, 99]\n"
     ]
    }
   ],
   "source": [
    "# 1: Convert numpy arrays to pandas DataFrames if needed\n",
    "mask_id_df = [pd.DataFrame(df) if isinstance(df, np.ndarray) else df for df in mask_id]\n",
    "\n",
    "# 2: Concatenate all dataframes into a single dataframe or series\n",
    "concatenated_data = pd.concat(mask_id_df, ignore_index=True)\n",
    "\n",
    "# 3: Remove duplicate values and sort in numerical order\n",
    "ROI_values = sorted(concatenated_data[0].unique())\n",
    "\n",
    "n_ROIs = len(ROI_values)\n",
    "\n",
    "print(ROI_values)"
   ]
  },
  {
   "cell_type": "markdown",
   "metadata": {},
   "source": [
    "#### Sum how many times each mask_id is present in each session."
   ]
  },
  {
   "cell_type": "code",
   "execution_count": 11,
   "metadata": {
    "vscode": {
     "languageId": "plaintext"
    }
   },
   "outputs": [],
   "source": [
    "number_counts = {number: [] for number in ROI_values}\n",
    "\n",
    "# Iterate through each DataFrame in 'mask_id'\n",
    "for df in mask_id_df:\n",
    "    if 'Numbers' in df.columns:\n",
    "        column_name = 'Numbers'\n",
    "    else:\n",
    "        column_name = df.columns[0]  # Get the column name dynamically\n",
    "\n",
    "    for number in ROI_values:\n",
    "        count = df[column_name].eq(number).sum()\n",
    "        number_counts[number].append(count)\n",
    "\n",
    "# This df contains columns with ROI indeces and rows that store the number of times each ROI was presented for each voltage\n",
    "ROI_sum_df = pd.DataFrame(number_counts, index=range(1, len(mask_id)+1))"
   ]
  },
  {
   "cell_type": "markdown",
   "metadata": {},
   "source": [
    "### Tabulate the Success rates of the two ROIs\n",
    "\n",
    "First, create dictionary _SUC_ROI_dict_ to store the successful trials per session for each ROI."
   ]
  },
  {
   "cell_type": "code",
   "execution_count": 12,
   "metadata": {
    "vscode": {
     "languageId": "plaintext"
    }
   },
   "outputs": [],
   "source": [
    "# Create a list of SUC_mask_id_## variables by looping through the ROIs listed in 'mask_id_values'\n",
    "for value in ROI_values:\n",
    "    var_name = f\"SUC_ROI_{value:02}\"\n",
    "    locals()[var_name] = [[] for _ in range(n_sessions)]\n",
    "\n",
    "# Create a dictionary to store the lists of SUC_ROI values\n",
    "SUC_ROI_dict = {value: [[] for _ in range(n_sessions)] for value in ROI_values}"
   ]
  },
  {
   "cell_type": "markdown",
   "metadata": {},
   "source": [
    "Then, find successful Blank trials for each session.\n",
    "* For blank trials (mask_id = 99), a correct mouse response is to withold its lick (result = 1)."
   ]
  },
  {
   "cell_type": "code",
   "execution_count": 13,
   "metadata": {
    "vscode": {
     "languageId": "plaintext"
    }
   },
   "outputs": [],
   "source": [
    "for i in range(n_sessions):\n",
    "    for x in range(len(trialtype[i])):         \n",
    "            \n",
    "            if mask_id[i][x] == 99 and result[i][x] == 1:\n",
    "                SUC_ROI_dict[99][i].append(1)\n",
    "                \n",
    "            if mask_id[i][x] == 99 and result[i][x] != 1:\n",
    "                SUC_ROI_dict[99][i].append(0)\n",
    "            \n",
    "            if mask_id[i][x] != 99:\n",
    "                SUC_ROI_dict[99][i].append(0)"
   ]
  },
  {
   "cell_type": "markdown",
   "metadata": {},
   "source": [
    "Now find the successful Stim trials for each session.\n",
    "* For stim trials (mask_id = 0), a correct mouse response is to lick (result =2)."
   ]
  },
  {
   "cell_type": "code",
   "execution_count": 14,
   "metadata": {
    "vscode": {
     "languageId": "plaintext"
    }
   },
   "outputs": [],
   "source": [
    "\n",
    "ROI_values_match = [value for value in ROI_values if value != 99]\n",
    "keys_no_99 = [key for key in SUC_ROI_dict.keys() if key != 99]\n",
    "\n",
    "\n",
    "for i in range(n_sessions):\n",
    "    for x in range(len(trialtype[i])):\n",
    "        for v in ROI_values_match:\n",
    "            \n",
    "            if result[i][x] != 2:\n",
    "                SUC_ROI_dict[v][i].append(0)\n",
    "\n",
    "            if mask_id[i][x] == v and result[i][x] == 2:\n",
    "                SUC_ROI_dict[v][i].append(1)\n",
    "                        \n",
    "            if mask_id[i][x] != v and result[i][x] == 2:\n",
    "                SUC_ROI_dict[v][i].append(0)\n",
    "                \n",
    "# =============================================================================\n",
    "# # CHECK\n",
    "# result_list = SUC_ROI_dict[0][3]\n",
    "# length_of_list = len(result_list)\n",
    "# print(length_of_list)\n",
    "# length_of_trialtype_0 = len(trialtype[3])\n",
    "# print(length_of_trialtype_0)\n",
    "# ============================================================================="
   ]
  },
  {
   "cell_type": "markdown",
   "metadata": {},
   "source": [
    "Sum the number of successful Blank and Stim trials in each session."
   ]
  },
  {
   "cell_type": "code",
   "execution_count": 15,
   "metadata": {
    "vscode": {
     "languageId": "plaintext"
    }
   },
   "outputs": [],
   "source": [
    "sum_SUC_ROI_dict = {}\n",
    "\n",
    "for key, binary_lists in SUC_ROI_dict.items():\n",
    "    sum_lists = [sum(binary_list) for binary_list in binary_lists]\n",
    "    sum_SUC_ROI_dict[key] = sum_lists\n",
    "\n",
    "\n",
    "# Convert the dictionary into a DataFrame\n",
    "sum_SUC_ROI_df = pd.DataFrame(sum_SUC_ROI_dict, index=range(1, len(mask_id)+1))\n",
    "            \n",
    "# Fraction of successful trials for each ROI\n",
    "frac_SUCCESS_ROI = sum_SUC_ROI_df/ROI_sum_df\n",
    "\n",
    "# Fraction of successful trials for blanks\n",
    "frac_SUCCESS_Blanks = frac_SUCCESS_ROI[99].to_numpy()\n",
    "\n",
    "# Fraction of successful trials for stim sets\n",
    "frac_SUCCESS_ROI_stim = frac_SUCCESS_ROI.drop(columns=99)"
   ]
  },
  {
   "cell_type": "markdown",
   "metadata": {},
   "source": [
    "Find the success rate of all ROI's combined (0 : Stim and 99 : Blank trials) by averaging their individual success rates."
   ]
  },
  {
   "cell_type": "code",
   "execution_count": 16,
   "metadata": {
    "vscode": {
     "languageId": "plaintext"
    }
   },
   "outputs": [],
   "source": [
    "sum_match_stim = ROI_sum_df.drop(columns=[99]).sum(axis=1).to_numpy()\n",
    "# axis 0 represents rows and axis 1 represents columns. Here, we are summing over the columns.\n",
    "\n",
    "sum_match_stim_SUC = sum_SUC_ROI_df.drop(columns=[99]).sum(axis=1).to_numpy()\n",
    "\n",
    "SUCCESS_match_stim = sum_match_stim_SUC/sum_match_stim\n",
    "\n",
    "avg_SUCCESS_plot = (SUCCESS_match_stim + frac_SUCCESS_Blanks) / 2.0"
   ]
  },
  {
   "cell_type": "markdown",
   "metadata": {},
   "source": [
    "## Calculate the confidence interval of each session\n",
    "\n",
    "Calculate 95% confidence interval for each session which will account for the number of trials being considered for each session. \n",
    "\n",
    "To calculate the [Standard Error](https://www.dummies.com/article/academics-the-arts/science/biology/the-confidence-interval-around-a-proportion-149351/) (_SE_) for each value in **avg_SUCCESS_plot** (which corresponds to _p_ in the equation) using the values in **tot_trials_sess** (which corresponds to _N_), we can loop through each element of both **avg_SUCCESS_plot** and **tot_trials_sess**. The formula for the _SE_ is:\n",
    "\n",
    "_SE = sqrt(p(1-p)/N)_\n",
    "\n",
    "This equation should be applied to each element in **avg_SUCCESS_plot** (_p_) and **tot_trials_sess** (_N_) and the output should be stored in **SE_plot**.\n",
    "Then, multiply the _SE_ by a preselected k-value to calculate the 95% confidence interval: **CI**."
   ]
  },
  {
   "cell_type": "code",
   "execution_count": 17,
   "metadata": {
    "vscode": {
     "languageId": "plaintext"
    }
   },
   "outputs": [],
   "source": [
    "# Define the constant k for calculating the confidence interval\n",
    "k = 1.96\n",
    "# k is 1.96 for normal-based 95 percent confidence limits.\n",
    "\n",
    "# Initialize CI to store the calculated confidence intervals\n",
    "CI = []\n",
    "\n",
    "# Loop over the avg_SUCCESS_plot (p) and tot_trials_sess (N) arrays\n",
    "for p, N in zip(avg_SUCCESS_plot, tot_trials_sess):\n",
    "    # Calculate the standard error using the given formula\n",
    "    if N > 0:  # Ensure N is positive to avoid division by zero\n",
    "        SE = np.sqrt(p * (1 - p) / N)\n",
    "    else:\n",
    "        SE = 0  # Handle cases where N is zero\n",
    "    \n",
    "    # Multiply by the scaling factor k = 1.96 to get the confidence interval\n",
    "    CI_value = SE * k\n",
    "    \n",
    "    # Append the CI value to the CI list\n",
    "    CI.append(CI_value)\n",
    "\n",
    "# Convert CI to a NumPy array for further processing\n",
    "CI = np.array(CI)"
   ]
  },
  {
   "cell_type": "markdown",
   "metadata": {},
   "source": [
    "Create the **confidence_intervals** list of arrays, where each element is an array of two values (upper and lower bounds) for each corresponding value in **avg_SUCCESS_plot** and **CI**."
   ]
  },
  {
   "cell_type": "code",
   "execution_count": 18,
   "metadata": {
    "vscode": {
     "languageId": "plaintext"
    }
   },
   "outputs": [],
   "source": [
    "confidence_intervals = []\n",
    "\n",
    "# Loop through each p-value in avg_SUCCESS_plot and its corresponding CI value\n",
    "for p, ci in zip(avg_SUCCESS_plot, CI):\n",
    "    # Calculate the upper and lower bounds of the confidence interval\n",
    "    upper_bound = p + ci\n",
    "    lower_bound = p - ci\n",
    "    \n",
    "    # Store the upper and lower bounds as an array [upper_bound, lower_bound]\n",
    "    confidence_intervals.append([upper_bound, lower_bound])\n",
    "\n",
    "# Convert confidence_intervals to a NumPy array\n",
    "confidence_intervals = np.array(confidence_intervals) \n"
   ]
  },
  {
   "cell_type": "markdown",
   "metadata": {},
   "source": [
    "## Plot the success rate accross sessions for all mice during training"
   ]
  },
  {
   "cell_type": "code",
   "execution_count": 19,
   "metadata": {
    "vscode": {
     "languageId": "plaintext"
    }
   },
   "outputs": [
    {
     "data": {
      "image/png": "[encoded data removed]",
      "text/plain": [
       "<Figure size 900x500 with 2 Axes>"
      ]
     },
     "metadata": {},
     "output_type": "display_data"
    }
   ],
   "source": [
    "x = np.arange(n_sessions) + 1\n",
    "\n",
    "fig, ax1 = plt.subplots(figsize=(9, 5))\n",
    "\n",
    "# Plot Average Success Rate on the left y-axis\n",
    "line1, = ax1.plot(x, avg_SUCCESS_plot, 'o-', label='Avg. Success Rate', color='purple')\n",
    "ax1.axhline(y=0.0, color='gray', linestyle='--', linewidth=0.8)\n",
    "ax1.axhline(y=0.5, color='gray', linestyle='--', linewidth=0.8)\n",
    "ax1.axhline(y=1.0, color='gray', linestyle='--', linewidth=0.8)\n",
    "\n",
    "# Extract the confidence intervals for the average success rate\n",
    "lower_bounds = confidence_intervals[:, 1]  # Lower bounds\n",
    "upper_bounds = confidence_intervals[:, 0]  # Upper bounds\n",
    "\n",
    "# Plot the shaded error region for the confidence interval\n",
    "ax1.fill_between(x, lower_bounds, upper_bounds, color='purple', alpha=0.3)\n",
    "\n",
    "# Left y-axis (Fraction of Successful Match Trials)\n",
    "ax1.set_ylabel('Fraction of Successful Trials', fontsize=14)\n",
    "ax1.set_ylim(-0.1, 1.1)  # Setting limits from slightly below 0 to slightly above 1\n",
    "ax1.set_xlim(0.5, n_sessions + 0.5)\n",
    "ax1.set_xticks(x)\n",
    "\n",
    "# Create a second y-axis on the right for Percent Pavlov\n",
    "ax2 = ax1.twinx()\n",
    "ax2.plot(x, pavlov_percent, 'g*', label='Percent Pavlov', markersize=10)\n",
    "\n",
    "# Right y-axis (Percentage of Pavlov Trials)\n",
    "ax2.set_ylabel('Percentage of Pavlov Trials', fontsize=14)\n",
    "ax2.set_ylim(-10, 110)  # Pavlov percentage range from 0 to 100\n",
    "ax2.set_yticks(np.arange(0, 101, 20))  # Ticks at 0, 20, 40, 60, 80, 100\n",
    "\n",
    "# Title and legend\n",
    "ax1.set_title(f'Training Single Glomerular Stimulation | Mouse {mouse_number}', fontsize=16)\n",
    "\n",
    "# Add legends for both lines\n",
    "fig.legend(loc='lower left', bbox_to_anchor=(0.12, 0.12), fontsize='large')\n",
    "\n",
    "# Display the plot\n",
    "plt.show()"
   ]
  },
  {
   "cell_type": "markdown",
   "metadata": {},
   "source": [
    "### Save the produced plots\n",
    "\n",
    "This code with save the produced plot to a created folder in the **home_directory** which you specified at the beginning of the code. Specifically it will create a new folder in your home directory called _plots_behavior_."
   ]
  },
  {
   "cell_type": "code",
   "execution_count": 20,
   "metadata": {
    "vscode": {
     "languageId": "plaintext"
    }
   },
   "outputs": [],
   "source": [
    "# Save the figure as a .png file in the specified directory\n",
    "save_directory = os.path.join(home_directory, 'plots_behavior')\n",
    "if not os.path.exists(save_directory):\n",
    "    os.makedirs(save_directory)\n",
    "\n",
    "# Define the full path for the plot\n",
    "save_path = os.path.join(save_directory, f'SGS_Training_mouse{mouse_number}.png')\n",
    "\n",
    "# Save the plot\n",
    "fig.savefig(save_path, dpi=300)"
   ]
  },
  {
   "cell_type": "markdown",
   "metadata": {},
   "source": [
    "## THE END"
   ]
  }
 ],
 "metadata": {
  "kernelspec": {
   "display_name": "Python 3 (ipykernel)",
   "language": "python",
   "name": "python3"
  },
  "language_info": {
   "codemirror_mode": {
    "name": "ipython",
    "version": 3
   },
   "file_extension": ".py",
   "mimetype": "text/x-python",
   "name": "python",
   "nbconvert_exporter": "python",
   "pygments_lexer": "ipython3",
   "version": "3.8.19"
  }
 },
 "nbformat": 4,
 "nbformat_minor": 4
}
